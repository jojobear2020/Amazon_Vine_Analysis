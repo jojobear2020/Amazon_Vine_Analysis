{
  "nbformat": 4,
  "nbformat_minor": 0,
  "metadata": {
    "colab": {
      "name": "Amazon_Reviews_ETL.ipynb",
      "provenance": [],
      "collapsed_sections": []
    },
    "kernelspec": {
      "display_name": "PythonData",
      "language": "python",
      "name": "pythondata"
    },
    "language_info": {
      "codemirror_mode": {
        "name": "ipython",
        "version": 3
      },
      "file_extension": ".py",
      "mimetype": "text/x-python",
      "name": "python",
      "nbconvert_exporter": "python",
      "pygments_lexer": "ipython3",
      "version": "3.7.7"
    },
    "nteract": {
      "version": "0.12.3"
    }
  },
  "cells": [
    {
      "cell_type": "code",
      "metadata": {
        "id": "V58rxea0HqSa",
        "outputId": "062084b2-ac7c-440d-cb29-56733b0bae70",
        "colab": {
          "base_uri": "https://localhost:8080/"
        }
      },
      "source": [
        "import os\n",
        "# Find the latest version of spark 2.0  from http://www-us.apache.org/dist/spark/ and enter as the spark version\n",
        "# For example:\n",
        "# spark_version = 'spark-3.0.0'\n",
        "spark_version = 'spark-3.0.1'\n",
        "os.environ['SPARK_VERSION']=spark_version\n",
        "\n",
        "# Install Spark and Java\n",
        "!apt-get update\n",
        "!apt-get install openjdk-11-jdk-headless -qq > /dev/null\n",
        "!wget -q http://www-us.apache.org/dist/spark/$SPARK_VERSION/$SPARK_VERSION-bin-hadoop2.7.tgz\n",
        "!tar xf $SPARK_VERSION-bin-hadoop2.7.tgz\n",
        "!pip install -q findspark\n",
        "\n",
        "# Set Environment Variables\n",
        "import os\n",
        "os.environ[\"JAVA_HOME\"] = \"/usr/lib/jvm/java-11-openjdk-amd64\"\n",
        "os.environ[\"SPARK_HOME\"] = f\"/content/{spark_version}-bin-hadoop2.7\"\n",
        "\n",
        "# Start a SparkSession\n",
        "import findspark\n",
        "findspark.init()"
      ],
      "execution_count": 1,
      "outputs": [
        {
          "output_type": "stream",
          "text": [
            "\r0% [Working]\r            \rIgn:1 https://developer.download.nvidia.com/compute/cuda/repos/ubuntu1804/x86_64  InRelease\n",
            "Hit:2 https://cloud.r-project.org/bin/linux/ubuntu bionic-cran40/ InRelease\n",
            "Ign:3 https://developer.download.nvidia.com/compute/machine-learning/repos/ubuntu1804/x86_64  InRelease\n",
            "Get:4 http://security.ubuntu.com/ubuntu bionic-security InRelease [88.7 kB]\n",
            "Hit:5 http://archive.ubuntu.com/ubuntu bionic InRelease\n",
            "Hit:6 http://ppa.launchpad.net/c2d4u.team/c2d4u4.0+/ubuntu bionic InRelease\n",
            "Hit:7 https://developer.download.nvidia.com/compute/cuda/repos/ubuntu1804/x86_64  Release\n",
            "Hit:8 https://developer.download.nvidia.com/compute/machine-learning/repos/ubuntu1804/x86_64  Release\n",
            "Get:9 http://archive.ubuntu.com/ubuntu bionic-updates InRelease [88.7 kB]\n",
            "Hit:10 http://ppa.launchpad.net/graphics-drivers/ppa/ubuntu bionic InRelease\n",
            "Get:11 http://archive.ubuntu.com/ubuntu bionic-backports InRelease [74.6 kB]\n",
            "Get:14 http://archive.ubuntu.com/ubuntu bionic-updates/universe amd64 Packages [2,119 kB]\n",
            "Get:15 http://archive.ubuntu.com/ubuntu bionic-updates/main amd64 Packages [2,167 kB]\n",
            "Fetched 4,538 kB in 3s (1,493 kB/s)\n",
            "Reading package lists... Done\n"
          ],
          "name": "stdout"
        }
      ]
    },
    {
      "cell_type": "code",
      "metadata": {
        "id": "_xKwTpATHqSe",
        "outputId": "b6e4d0b4-9e55-4d20-cef4-69d165e0399e",
        "colab": {
          "base_uri": "https://localhost:8080/"
        }
      },
      "source": [
        "# Download the Postgres driver that will allow Spark to interact with Postgres.\n",
        "!wget https://jdbc.postgresql.org/download/postgresql-42.2.16.jar"
      ],
      "execution_count": 2,
      "outputs": [
        {
          "output_type": "stream",
          "text": [
            "--2020-11-07 04:56:49--  https://jdbc.postgresql.org/download/postgresql-42.2.16.jar\n",
            "Resolving jdbc.postgresql.org (jdbc.postgresql.org)... 72.32.157.228, 2001:4800:3e1:1::228\n",
            "Connecting to jdbc.postgresql.org (jdbc.postgresql.org)|72.32.157.228|:443... connected.\n",
            "HTTP request sent, awaiting response... 200 OK\n",
            "Length: 1002883 (979K) [application/java-archive]\n",
            "Saving to: ‘postgresql-42.2.16.jar.2’\n",
            "\n",
            "postgresql-42.2.16. 100%[===================>] 979.38K  5.46MB/s    in 0.2s    \n",
            "\n",
            "2020-11-07 04:56:49 (5.46 MB/s) - ‘postgresql-42.2.16.jar.2’ saved [1002883/1002883]\n",
            "\n"
          ],
          "name": "stdout"
        }
      ]
    },
    {
      "cell_type": "code",
      "metadata": {
        "id": "MMqDAjVS0KN9"
      },
      "source": [
        "from pyspark.sql import SparkSession\n",
        "spark = SparkSession.builder.appName(\"BigData-Challenge\").config(\"spark.driver.extraClassPath\",\"/content/postgresql-42.2.16.jar\").getOrCreate()"
      ],
      "execution_count": 3,
      "outputs": []
    },
    {
      "cell_type": "markdown",
      "metadata": {
        "id": "cyBsySGuY-9V"
      },
      "source": [
        "### Load Amazon Data into Spark DataFrame"
      ]
    },
    {
      "cell_type": "code",
      "metadata": {
        "id": "CtCmBhQJY-9Z",
        "outputId": "ddcf7818-7c69-4670-dd62-f33cd8859a6b",
        "colab": {
          "base_uri": "https://localhost:8080/"
        }
      },
      "source": [
        "from pyspark import SparkFiles\n",
        "url = \"https://s3.amazonaws.com/amazon-reviews-pds/tsv/sample_fr.tsv\"\n",
        "spark.sparkContext.addFile(url)\n",
        "df = spark.read.option(\"encoding\", \"UTF-8\").csv(SparkFiles.get(\"\"), sep=\"\\t\", header=True, inferSchema=True)\n",
        "df.show()"
      ],
      "execution_count": 4,
      "outputs": [
        {
          "output_type": "stream",
          "text": [
            "+-----------+-----------+--------------+----------+--------------+--------------------+--------------------+-----------+-------------+-----------+----+-----------------+--------------------+--------------------+-----------+\n",
            "|marketplace|customer_id|     review_id|product_id|product_parent|       product_title|    product_category|star_rating|helpful_votes|total_votes|vine|verified_purchase|     review_headline|         review_body|review_date|\n",
            "+-----------+-----------+--------------+----------+--------------+--------------------+--------------------+-----------+-------------+-----------+----+-----------------+--------------------+--------------------+-----------+\n",
            "|         FR|      14952|R32VYUWDIB5LKE|0552774294|     362925721|    The God Delusion|               Books|          5|            0|          0|   N|                Y|a propos de ce livre|je conseille fort...| 2013-02-13|\n",
            "|         FR|      14952|R3CCMP4EV6HAVL|B004GJXQ20|     268067011|A Game of Thrones...|Digital_Ebook_Pur...|          5|            0|          0|   N|                Y|                 wow|ce magnifique est...| 2014-08-03|\n",
            "|         FR|      17564|R14NAE6UGTVTA2|B00GIGGS6A|     256731097|      Huion H610 PRO|                  PC|          3|            1|          3|   N|                Y|      Ca fait le job|Je dirais qu'il a...| 2015-07-07|\n",
            "|         FR|      18940|R2E7QEWSC6EWFA|B00CW7KK9K|     977480037|Withings Pulse - ...|              Sports|          4|            0|          1|   N|                Y|Fidele a description|Je l'ai depuis qu...| 2014-06-16|\n",
            "|         FR|      20315|R26E6I47GQRYKR|B002L6SKIK|     827187473|          Prometheus|           Video DVD|          2|            3|          5|   N|                N|            décevant|je m'attendait à ...| 2013-06-10|\n",
            "|         FR|      20842|R1RJMTSNCKB9LP|B00004YLIU|     678427290|               Kid A|               Music|          2|            0|          0|   N|                Y|                 10'|Ne disait pas sur...| 2013-04-15|\n",
            "|         FR|      20913|R2P2XF84YELQBZ|B00AYHK7RU|     108403123|        The Next Day|               Music|          5|            0|          3|   N|                Y|        the next day|du bon bowie,tr&e...| 2013-06-07|\n",
            "|         FR|      21490| RJKULSX2Y5R07|B00CJ3V5UK|     252503117|G.I. Joe 2 : Cons...|           Video DVD|          5|            0|          0|   N|                Y|       tres bon film|très bon film bea...| 2014-11-07|\n",
            "|         FR|      24196|R3UYE0U7SQCI8Q|B000FUM0TE|      48021829|             Amistad|           Video DVD|          5|            2|          3|   N|                Y|           Excellent|Un sujet délicat ...| 2012-11-16|\n",
            "|         FR|      24196|R1TKJ7XFS3RDEB|B000UMXCTY|     181554537|The Collection (C...|               Music|          5|            0|          1|   N|                Y|       C'est parfait|Un coffret d'un d...| 2013-04-23|\n",
            "|         FR|      24196|R3S9JNS21QDBXP|B0044JV1K6|     386772628|Braddock - Missin...|           Video DVD|          5|            0|          2|   N|                Y|    Excellent achat.|Un grand classiqu...| 2013-08-02|\n",
            "|         FR|      24196|R2Y4O06QMOGHD0|2226249672|     753674225|Au revoir là-haut...|               Books|          5|            2|          3|   N|                Y|     Excellent achat|Livre offert pour...| 2013-10-03|\n",
            "|         FR|      24196|R3PS3P7G1ZT57W|B000A3IF8G|     757843869|The Essential Mic...|               Music|          5|            0|          0|   N|                Y|     Excellent achat|Un artiste inoubl...| 2014-08-21|\n",
            "|         FR|      24207|R1NFWFM2WWRWPM|B00B4VI8MQ|     351620851|Epic Adventures: ...|         Mobile_Apps|          5|            0|          0|   N|                Y|                jeux|Trop cool ce jeux...| 2014-01-31|\n",
            "|         FR|      24207|R3QRIH5CXCXMEL|B00CW6DAKC|      87169065|    Super Ferme Mini|         Mobile_Apps|          4|            4|          6|   N|                Y|             ajouter|Ajouter moi &agra...| 2014-07-29|\n",
            "|         FR|      24629| RBCSM1KTYH6FX|B0031ES8P6|     724566333|Ty - Ty40819 - Pe...|                Toys|          4|            0|          0|   N|                Y|           Très bien|Bonne idée de cad...| 2014-01-13|\n",
            "|         FR|      24844|R2BIWHFIS7X808|B007AR7OGE|     414300413|First lady of son...|               Music|          5|            3|          4|   N|                Y|               Great|Just great compli...| 2012-12-17|\n",
            "|         FR|      25935|R2VGNSD09UEW5T|B00XO12REY|     271191040|  The Monsanto Years|               Music|          1|            1|          9|   N|                Y|commentaire sur M...|Pas beaucoup de s...| 2015-07-21|\n",
            "|         FR|      26425| RTGC85CCO9EMU|B007ZMHBBM|     893659638|Checkerboard Loun...|           Video DVD|          5|            0|          0|   N|                Y|        Muddy Waters|Superbe session e...| 2012-11-22|\n",
            "|         FR|      26552|R128Q27ZKTLGJ1|0446310786|     994527755|To Kill a Mocking...|               Books|          5|            0|          0|   N|                Y|          Beautiful!|I know it's a cla...| 2015-01-19|\n",
            "+-----------+-----------+--------------+----------+--------------+--------------------+--------------------+-----------+-------------+-----------+----+-----------------+--------------------+--------------------+-----------+\n",
            "only showing top 20 rows\n",
            "\n"
          ],
          "name": "stdout"
        }
      ]
    },
    {
      "cell_type": "markdown",
      "metadata": {
        "id": "2yUSe55VY-9t"
      },
      "source": [
        "### Create DataFrames to match tables"
      ]
    },
    {
      "cell_type": "markdown",
      "metadata": {
        "id": "HvcXUTlgDJKU"
      },
      "source": [
        ""
      ]
    },
    {
      "cell_type": "code",
      "metadata": {
        "id": "C8REmY1aY-9u",
        "outputId": "0448207f-5251-4c21-c0f6-deb379bfaf53",
        "colab": {
          "base_uri": "https://localhost:8080/"
        }
      },
      "source": [
        "from pyspark.sql.functions import to_date\n",
        "\n",
        "# Read in the Review dataset as a DataFrame\n",
        "df.show(10)\n"
      ],
      "execution_count": 5,
      "outputs": [
        {
          "output_type": "stream",
          "text": [
            "+-----------+-----------+--------------+----------+--------------+--------------------+--------------------+-----------+-------------+-----------+----+-----------------+--------------------+--------------------+-----------+\n",
            "|marketplace|customer_id|     review_id|product_id|product_parent|       product_title|    product_category|star_rating|helpful_votes|total_votes|vine|verified_purchase|     review_headline|         review_body|review_date|\n",
            "+-----------+-----------+--------------+----------+--------------+--------------------+--------------------+-----------+-------------+-----------+----+-----------------+--------------------+--------------------+-----------+\n",
            "|         FR|      14952|R32VYUWDIB5LKE|0552774294|     362925721|    The God Delusion|               Books|          5|            0|          0|   N|                Y|a propos de ce livre|je conseille fort...| 2013-02-13|\n",
            "|         FR|      14952|R3CCMP4EV6HAVL|B004GJXQ20|     268067011|A Game of Thrones...|Digital_Ebook_Pur...|          5|            0|          0|   N|                Y|                 wow|ce magnifique est...| 2014-08-03|\n",
            "|         FR|      17564|R14NAE6UGTVTA2|B00GIGGS6A|     256731097|      Huion H610 PRO|                  PC|          3|            1|          3|   N|                Y|      Ca fait le job|Je dirais qu'il a...| 2015-07-07|\n",
            "|         FR|      18940|R2E7QEWSC6EWFA|B00CW7KK9K|     977480037|Withings Pulse - ...|              Sports|          4|            0|          1|   N|                Y|Fidele a description|Je l'ai depuis qu...| 2014-06-16|\n",
            "|         FR|      20315|R26E6I47GQRYKR|B002L6SKIK|     827187473|          Prometheus|           Video DVD|          2|            3|          5|   N|                N|            décevant|je m'attendait à ...| 2013-06-10|\n",
            "|         FR|      20842|R1RJMTSNCKB9LP|B00004YLIU|     678427290|               Kid A|               Music|          2|            0|          0|   N|                Y|                 10'|Ne disait pas sur...| 2013-04-15|\n",
            "|         FR|      20913|R2P2XF84YELQBZ|B00AYHK7RU|     108403123|        The Next Day|               Music|          5|            0|          3|   N|                Y|        the next day|du bon bowie,tr&e...| 2013-06-07|\n",
            "|         FR|      21490| RJKULSX2Y5R07|B00CJ3V5UK|     252503117|G.I. Joe 2 : Cons...|           Video DVD|          5|            0|          0|   N|                Y|       tres bon film|très bon film bea...| 2014-11-07|\n",
            "|         FR|      24196|R3UYE0U7SQCI8Q|B000FUM0TE|      48021829|             Amistad|           Video DVD|          5|            2|          3|   N|                Y|           Excellent|Un sujet délicat ...| 2012-11-16|\n",
            "|         FR|      24196|R1TKJ7XFS3RDEB|B000UMXCTY|     181554537|The Collection (C...|               Music|          5|            0|          1|   N|                Y|       C'est parfait|Un coffret d'un d...| 2013-04-23|\n",
            "+-----------+-----------+--------------+----------+--------------+--------------------+--------------------+-----------+-------------+-----------+----+-----------------+--------------------+--------------------+-----------+\n",
            "only showing top 10 rows\n",
            "\n"
          ],
          "name": "stdout"
        }
      ]
    },
    {
      "cell_type": "markdown",
      "metadata": {
        "id": "mN7BxLB2adRC"
      },
      "source": [
        ""
      ]
    },
    {
      "cell_type": "code",
      "metadata": {
        "id": "B0TESUDRY-90",
        "outputId": "f53d9e77-7b9d-49ef-caf4-b5e34469f912",
        "colab": {
          "base_uri": "https://localhost:8080/"
        }
      },
      "source": [
        "# Create the customers_table DataFrame\n",
        "# customers_df = df.groupby(\"\").agg({\"\"}).withColumnRenamed(\"\", \"customer_count\")\n",
        "customers_table = df.groupby(\"customer_id\").agg({\"customer_id\":\"count\"}).withColumnRenamed(\"count(customer_id)\", \"customer_count\")\n",
        "customers_table.show()"
      ],
      "execution_count": 7,
      "outputs": [
        {
          "output_type": "stream",
          "text": [
            "+-----------+--------------+\n",
            "|customer_id|customer_count|\n",
            "+-----------+--------------+\n",
            "|      26425|             1|\n",
            "|      29814|             1|\n",
            "|      20913|             1|\n",
            "|      28767|             1|\n",
            "|      20842|             1|\n",
            "|      31630|             1|\n",
            "|      31660|             1|\n",
            "|      17564|             1|\n",
            "|      24207|             2|\n",
            "|      32494|             1|\n",
            "|      14952|             2|\n",
            "|      24196|             5|\n",
            "|      28091|             3|\n",
            "|      28448|             1|\n",
            "|      31588|             1|\n",
            "|      28700|             1|\n",
            "|      32799|             3|\n",
            "|      28557|             1|\n",
            "|      21490|             1|\n",
            "|      28692|             1|\n",
            "+-----------+--------------+\n",
            "only showing top 20 rows\n",
            "\n"
          ],
          "name": "stdout"
        }
      ]
    },
    {
      "cell_type": "code",
      "metadata": {
        "id": "4FwXA6UvY-96",
        "outputId": "e65a0e62-5ce9-4d0d-fbf2-83a61566cab9",
        "colab": {
          "base_uri": "https://localhost:8080/"
        }
      },
      "source": [
        "# Create the products_table DataFrame and drop duplicates. \n",
        "# products_df = df.select([]).drop_duplicates()\n",
        "\n",
        "products_table = df.select([\"product_id\",\"product_title\"]).dropDuplicates()\n",
        "products_table.show()"
      ],
      "execution_count": 8,
      "outputs": [
        {
          "output_type": "stream",
          "text": [
            "+----------+--------------------+\n",
            "|product_id|       product_title|\n",
            "+----------+--------------------+\n",
            "|B00GIGGS6A|      Huion H610 PRO|\n",
            "|B00XO12REY|  The Monsanto Years|\n",
            "|B00170MYIS|Sony NP-FG1 Batte...|\n",
            "|B000UMXCTY|The Collection (C...|\n",
            "|B00KCY6576|PIRANHA 2 3D [Blu...|\n",
            "|B002L6SKIK|          Prometheus|\n",
            "|B00CW7KK9K|Withings Pulse - ...|\n",
            "|B00004YLIU|               Kid A|\n",
            "|B00B4VI8MQ|Epic Adventures: ...|\n",
            "|B000A3IF8G|The Essential Mic...|\n",
            "|B00CPZ7DBW|     Jump Birdy Jump|\n",
            "|B005SODYGA|Made In Germany 1...|\n",
            "|B008YISMLY| Peter Pan [Blu-ray]|\n",
            "|0552774294|    The God Delusion|\n",
            "|B00008QSA5|Super Session + B...|\n",
            "|B00CJ3V5UK|G.I. Joe 2 : Cons...|\n",
            "|B0097BY3K6|               Music|\n",
            "|B00HDEEQ92|Le Hobbit - La dé...|\n",
            "|B0044JV1K6|Braddock - Missin...|\n",
            "|B007AR7OGE|First lady of son...|\n",
            "+----------+--------------------+\n",
            "only showing top 20 rows\n",
            "\n"
          ],
          "name": "stdout"
        }
      ]
    },
    {
      "cell_type": "code",
      "metadata": {
        "id": "MkqyCuNQY-9-",
        "outputId": "d8b8ae5f-6c3d-4aae-ef4e-5b0d3cae071e",
        "colab": {
          "base_uri": "https://localhost:8080/"
        }
      },
      "source": [
        "# Create the review_id_table DataFrame. \n",
        "# Convert the 'review_date' column to a date datatype with to_date(\"review_date\", 'yyyy-MM-dd').alias(\"review_date\")\n",
        "# review_id_df = df.select([, to_date(\"review_date\", 'yyyy-MM-dd').alias(\"review_date\")])\n",
        "\n",
        "# Load in a sql function to use columns\n",
        "from pyspark.sql.functions import col\n",
        "\n",
        "review_id_table = df.select([\"review_id\",\"customer_id\",\"product_id\", \"product_parent\", to_date(\"review_date\", 'yyyy-MM-dd').alias(\"review_date\")]).dropDuplicates([\"review_id\"])\n",
        "# add drop duplicates to avoid errors when uploading to pgAdmin\n",
        "\n",
        "review_id_table.show()"
      ],
      "execution_count": 9,
      "outputs": [
        {
          "output_type": "stream",
          "text": [
            "+--------------+-----------+----------+--------------+-----------+\n",
            "|     review_id|customer_id|product_id|product_parent|review_date|\n",
            "+--------------+-----------+----------+--------------+-----------+\n",
            "|R1BSSQ563EWKNN|      28692|0006486118|     586496321| 2013-09-24|\n",
            "|R20RF32ZCTMRR3|      32494|B00CPZ7DBW|     788907793| 2014-06-16|\n",
            "|R35CGHFIHGVQQM|      26552|B00D1VKZ3M|      16141818| 2015-01-22|\n",
            "|R1N4WBVI1KJSPQ|      28091|B007K60MQY|     251269761| 2013-03-16|\n",
            "|R1RJMTSNCKB9LP|      20842|B00004YLIU|     678427290| 2013-04-15|\n",
            "|R32VYUWDIB5LKE|      14952|0552774294|     362925721| 2013-02-13|\n",
            "| RJKULSX2Y5R07|      21490|B00CJ3V5UK|     252503117| 2014-11-07|\n",
            "| RP2T2TPN9Y5MW|      28091|B00649LT06|     992326428| 2013-03-16|\n",
            "|R3PS3P7G1ZT57W|      24196|B000A3IF8G|     757843869| 2014-08-21|\n",
            "| RTGC85CCO9EMU|      26425|B007ZMHBBM|     893659638| 2012-11-22|\n",
            "| RBCSM1KTYH6FX|      24629|B0031ES8P6|     724566333| 2014-01-13|\n",
            "|R1OS6CM8GL94ZX|      31333|B00KCY6576|     763997717| 2014-09-24|\n",
            "|R1MFYKS6CI4RHP|      28557|B001I45M5A|      63233157| 2014-11-17|\n",
            "|R2E7QEWSC6EWFA|      18940|B00CW7KK9K|     977480037| 2014-06-16|\n",
            "|R1X70SYYE2M5GK|      32799|B008U6R9B4|     180860858| 2013-03-31|\n",
            "|R1S85Q8CORB1AP|      32799|B000VPNK9M|     231461709| 2013-03-31|\n",
            "|R3L6J8KA59DRLS|      28448|B00B0ID7D8|     912727710| 2014-01-24|\n",
            "|R1L9V8TG9GSZJ2|      29042|B008SOJQVE|     244062959| 2013-11-25|\n",
            "|R3S9JNS21QDBXP|      24196|B0044JV1K6|     386772628| 2013-08-02|\n",
            "|R128Q27ZKTLGJ1|      26552|0446310786|     994527755| 2015-01-19|\n",
            "+--------------+-----------+----------+--------------+-----------+\n",
            "only showing top 20 rows\n",
            "\n"
          ],
          "name": "stdout"
        }
      ]
    },
    {
      "cell_type": "code",
      "metadata": {
        "id": "lzMmkdKmY--D",
        "outputId": "d965963c-f249-4b98-c541-8c302a855eb6",
        "colab": {
          "base_uri": "https://localhost:8080/"
        }
      },
      "source": [
        "# Create the vine_table. DataFrame\n",
        "# vine_df = df.select([])\n",
        "vine_table = df.select([\"review_id\",\"star_rating\",\"helpful_votes\", \"total_votes\",\"vine\", \"verified_purchase\"]).dropDuplicates([\"review_id\"])\n",
        "# add drop duplicates to avoid errors when uploading to pgAdmin\n",
        "\n",
        "vine_table.show(5)"
      ],
      "execution_count": 10,
      "outputs": [
        {
          "output_type": "stream",
          "text": [
            "+--------------+-----------+-------------+-----------+----+-----------------+\n",
            "|     review_id|star_rating|helpful_votes|total_votes|vine|verified_purchase|\n",
            "+--------------+-----------+-------------+-----------+----+-----------------+\n",
            "|R1BSSQ563EWKNN|          5|            0|          0|   N|                Y|\n",
            "|R20RF32ZCTMRR3|          5|            2|          2|   N|                N|\n",
            "|R35CGHFIHGVQQM|          2|            2|          2|   N|                Y|\n",
            "|R1N4WBVI1KJSPQ|          4|            0|          1|   N|                Y|\n",
            "|R1RJMTSNCKB9LP|          2|            0|          0|   N|                Y|\n",
            "+--------------+-----------+-------------+-----------+----+-----------------+\n",
            "only showing top 5 rows\n",
            "\n"
          ],
          "name": "stdout"
        }
      ]
    },
    {
      "cell_type": "markdown",
      "metadata": {
        "id": "jITZhLkmY--J"
      },
      "source": [
        "### Connect to the AWS RDS instance and write each DataFrame to its table. "
      ]
    },
    {
      "cell_type": "code",
      "metadata": {
        "id": "7jiUvs1aY--L"
      },
      "source": [
        "# Configure settings for RDS\n",
        "mode = \"append\"\n",
        "jdbc_url=\"jdbc:postgresql://dataviz.ctpgfcjdtxtv.us-east-2.rds.amazonaws.com:5432/dataviz\"\n",
        "config = {\"user\":\"jojobear2020\", ##input AWS username\n",
        "          \"password\": \"Columbiastudent2020#1\", ##input AWS password\n",
        "          \"driver\":\"org.postgresql.Driver\"}"
      ],
      "execution_count": 11,
      "outputs": []
    },
    {
      "cell_type": "code",
      "metadata": {
        "id": "T2zgZ-aKY--Q"
      },
      "source": [
        "# Write review_id_df to table in RDS\n",
        "review_id_table.write.jdbc(url=jdbc_url, table='review_id_table', mode=mode, properties=config)"
      ],
      "execution_count": 14,
      "outputs": []
    },
    {
      "cell_type": "code",
      "metadata": {
        "id": "1m3yzn-LY--U"
      },
      "source": [
        "# Write products_df to table in RDS\n",
        "# about 3 min\n",
        "products_table.write.jdbc(url=jdbc_url, table='products_table', mode=mode, properties=config)"
      ],
      "execution_count": 15,
      "outputs": []
    },
    {
      "cell_type": "code",
      "metadata": {
        "id": "KbXri15fY--Z"
      },
      "source": [
        "# Write customers_df to table in RDS\n",
        "# 5 min 14 s\n",
        "customers_table.write.jdbc(url=jdbc_url, table='customers_table', mode=mode, properties=config)"
      ],
      "execution_count": 20,
      "outputs": []
    },
    {
      "cell_type": "code",
      "metadata": {
        "id": "XdQknSHLY--e"
      },
      "source": [
        "# Write vine_df to table in RDS\n",
        "# 11 minutes\n",
        "vine_table.write.jdbc(url=jdbc_url, table='vine_table', mode=mode, properties=config)"
      ],
      "execution_count": 19,
      "outputs": []
    },
    {
      "cell_type": "code",
      "metadata": {
        "id": "Exuo6ebUsCqW"
      },
      "source": [
        ""
      ],
      "execution_count": null,
      "outputs": []
    }
  ]
}