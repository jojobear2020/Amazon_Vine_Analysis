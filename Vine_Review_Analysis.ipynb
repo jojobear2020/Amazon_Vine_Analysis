{
  "nbformat": 4,
  "nbformat_minor": 0,
  "metadata": {
    "colab": {
      "name": "Vine_Review_Analysis.ipynb",
      "provenance": [],
      "collapsed_sections": []
    },
    "kernelspec": {
      "name": "python3",
      "display_name": "Python 3"
    }
  },
  "cells": [
    {
      "cell_type": "code",
      "metadata": {
        "id": "Gx1ru8bRvK1h",
        "outputId": "f3c87164-4c40-425d-aaca-512629747b1c",
        "colab": {
          "base_uri": "https://localhost:8080/"
        }
      },
      "source": [
        "import os\n",
        "# Find the latest version of spark 2.0  from http://www-us.apache.org/dist/spark/ and enter as the spark version\n",
        "# For example:\n",
        "# spark_version = 'spark-3.0.0'\n",
        "spark_version = 'spark-3.0.1'\n",
        "os.environ['SPARK_VERSION']=spark_version\n",
        "\n",
        "# Install Spark and Java\n",
        "!apt-get update\n",
        "!apt-get install openjdk-11-jdk-headless -qq > /dev/null\n",
        "!wget -q http://www-us.apache.org/dist/spark/$SPARK_VERSION/$SPARK_VERSION-bin-hadoop2.7.tgz\n",
        "!tar xf $SPARK_VERSION-bin-hadoop2.7.tgz\n",
        "!pip install -q findspark\n",
        "\n",
        "# Set Environment Variables\n",
        "import os\n",
        "os.environ[\"JAVA_HOME\"] = \"/usr/lib/jvm/java-11-openjdk-amd64\"\n",
        "os.environ[\"SPARK_HOME\"] = f\"/content/{spark_version}-bin-hadoop2.7\"\n",
        "\n",
        "# Start a SparkSession\n",
        "import findspark\n",
        "findspark.init()"
      ],
      "execution_count": 1,
      "outputs": [
        {
          "output_type": "stream",
          "text": [
            "\r0% [Working]\r            \rGet:1 http://security.ubuntu.com/ubuntu bionic-security InRelease [88.7 kB]\n",
            "\r0% [Connecting to archive.ubuntu.com (91.189.88.142)] [1 InRelease 14.2 kB/88.7\r                                                                               \rIgn:2 https://developer.download.nvidia.com/compute/cuda/repos/ubuntu1804/x86_64  InRelease\n",
            "\r0% [Waiting for headers] [1 InRelease 69.2 kB/88.7 kB 78%] [Connected to cloud.\r0% [Waiting for headers] [Waiting for headers] [Waiting for headers] [Waiting f\r0% [1 InRelease gpgv 88.7 kB] [Waiting for headers] [Waiting for headers] [Wait\r                                                                               \rHit:3 https://cloud.r-project.org/bin/linux/ubuntu bionic-cran40/ InRelease\n",
            "\r0% [1 InRelease gpgv 88.7 kB] [Waiting for headers] [Waiting for headers] [Wait\r                                                                               \rIgn:4 https://developer.download.nvidia.com/compute/machine-learning/repos/ubuntu1804/x86_64  InRelease\n",
            "\r                                                                               \r0% [1 InRelease gpgv 88.7 kB] [Waiting for headers] [Waiting for headers]\r                                                                         \rHit:5 http://ppa.launchpad.net/c2d4u.team/c2d4u4.0+/ubuntu bionic InRelease\n",
            "\r0% [1 InRelease gpgv 88.7 kB] [Waiting for headers] [Connecting to ppa.launchpa\r                                                                               \rHit:6 http://archive.ubuntu.com/ubuntu bionic InRelease\n",
            "\r0% [1 InRelease gpgv 88.7 kB] [Connecting to ppa.launchpad.net (91.189.95.83)] \r                                                                               \rHit:7 https://developer.download.nvidia.com/compute/cuda/repos/ubuntu1804/x86_64  Release\n",
            "\r0% [1 InRelease gpgv 88.7 kB] [Waiting for headers] [Connecting to ppa.launchpa\r                                                                               \rHit:8 https://developer.download.nvidia.com/compute/machine-learning/repos/ubuntu1804/x86_64  Release\n",
            "Get:9 http://archive.ubuntu.com/ubuntu bionic-updates InRelease [88.7 kB]\n",
            "Hit:10 http://ppa.launchpad.net/graphics-drivers/ppa/ubuntu bionic InRelease\n",
            "Get:11 http://archive.ubuntu.com/ubuntu bionic-backports InRelease [74.6 kB]\n",
            "Fetched 252 kB in 2s (146 kB/s)\n",
            "Reading package lists... Done\n"
          ],
          "name": "stdout"
        }
      ]
    },
    {
      "cell_type": "code",
      "metadata": {
        "id": "IBG9T8WKvWIE",
        "outputId": "a1475474-d261-485f-ee02-78906bc9aebf",
        "colab": {
          "base_uri": "https://localhost:8080/"
        }
      },
      "source": [
        "# Download the Postgres driver that will allow Spark to interact with Postgres.\n",
        "!wget https://jdbc.postgresql.org/download/postgresql-42.2.16.jar"
      ],
      "execution_count": 2,
      "outputs": [
        {
          "output_type": "stream",
          "text": [
            "--2020-11-14 04:29:10--  https://jdbc.postgresql.org/download/postgresql-42.2.16.jar\n",
            "Resolving jdbc.postgresql.org (jdbc.postgresql.org)... 72.32.157.228, 2001:4800:3e1:1::228\n",
            "Connecting to jdbc.postgresql.org (jdbc.postgresql.org)|72.32.157.228|:443... connected.\n",
            "HTTP request sent, awaiting response... 200 OK\n",
            "Length: 1002883 (979K) [application/java-archive]\n",
            "Saving to: ‘postgresql-42.2.16.jar.3’\n",
            "\n",
            "postgresql-42.2.16. 100%[===================>] 979.38K  5.38MB/s    in 0.2s    \n",
            "\n",
            "2020-11-14 04:29:11 (5.38 MB/s) - ‘postgresql-42.2.16.jar.3’ saved [1002883/1002883]\n",
            "\n"
          ],
          "name": "stdout"
        }
      ]
    },
    {
      "cell_type": "code",
      "metadata": {
        "id": "LQl1x9nNvbHk"
      },
      "source": [
        "from pyspark.sql import SparkSession\n",
        "spark = SparkSession.builder.appName(\"BigData-Challenge\").config(\"spark.driver.extraClassPath\",\"/content/postgresql-42.2.16.jar\").getOrCreate()"
      ],
      "execution_count": 3,
      "outputs": []
    },
    {
      "cell_type": "code",
      "metadata": {
        "id": "I9hxKqIuveDc",
        "outputId": "9b2c59e3-6f30-490f-fe84-1c899838250d",
        "colab": {
          "base_uri": "https://localhost:8080/"
        }
      },
      "source": [
        "# 2.2 Load the data from Deliverable 1\n",
        "from pyspark import SparkFiles\n",
        "url = \"https://s3.amazonaws.com/amazon-reviews-pds/tsv/amazon_reviews_us_Baby_v1_00.tsv.gz\"\n",
        "spark.sparkContext.addFile(url)\n",
        "df = spark.read.option(\"encoding\", \"UTF-8\").csv(SparkFiles.get(\"\"), sep=\"\\t\", header=True, inferSchema=True)\n",
        "df.show()"
      ],
      "execution_count": 4,
      "outputs": [
        {
          "output_type": "stream",
          "text": [
            "+-----------+-----------+--------------+----------+--------------+--------------------+----------------+-----------+-------------+-----------+----+-----------------+--------------------+--------------------+-----------+\n",
            "|marketplace|customer_id|     review_id|product_id|product_parent|       product_title|product_category|star_rating|helpful_votes|total_votes|vine|verified_purchase|     review_headline|         review_body|review_date|\n",
            "+-----------+-----------+--------------+----------+--------------+--------------------+----------------+-----------+-------------+-----------+----+-----------------+--------------------+--------------------+-----------+\n",
            "|         US|    9970739| R8EWA1OFT84NX|B00GSP5D94|     329991347|Summer Infant Swa...|            Baby|          5|            0|          0|   N|                Y|Great swaddled bl...|Loved these swadd...| 2015-08-31|\n",
            "|         US|   23538442|R2JWY4YRQD4FOP|B00YYDDZGU|     646108902|Pacifier Clip Gir...|            Baby|          5|            0|          0|   N|                N|Too cute and real...|These are adorabl...| 2015-08-31|\n",
            "|         US|    8273344| RL5ESX231LZ0B|B00BUBNZC8|     642922361|Udder Covers - Br...|            Baby|          5|            0|          0|   N|                Y|          Five Stars|          Great gift| 2015-08-31|\n",
            "|         US|   24557753| RRMS9ZWJ2KD08|B00AWLZFTS|     494272733|Gerber Graduates ...|            Baby|          5|            0|          0|   N|                Y|Cute; wash up nic...|These forks are g...| 2015-08-31|\n",
            "|         US|   46263340|R14I3ZG5E6S7YM|B00KM60D3Q|     305813185|Summer Infant Ult...|            Baby|          5|            0|          0|   N|                Y|            Love it!|I wanted somethin...| 2015-08-31|\n",
            "|         US|   24557753|R13EPSFP5DODN5|B00PQMRZG4|     607341708|Summer Infant Kee...|            Baby|          4|            0|          0|   N|                Y|        Rips easily.|Loved with daught...| 2015-08-31|\n",
            "|         US|   33520065| R6RBP4HTE67SY|B005DL5970|     971881542|Natural HE Powder...|            Baby|          5|            0|          0|   N|                Y|Cloth Diaper Dete...|This is a great d...| 2015-08-31|\n",
            "|         US|   20241560|R15B3EU40RSU2W|B00C6D2WL4|      93827401|Dr. Brown's Bottl...|            Baby|          5|            0|          0|   N|                Y|          Five Stars|                good| 2015-08-31|\n",
            "|         US|    9987983| RP4DD53A4ZJA2|B0083973FK|     958629336|Sposie Booster Pa...|            Baby|          5|            0|          0|   N|                Y|          Five Stars|With these my mil...| 2015-08-31|\n",
            "|         US|   52570308|R2C99DJEO4RZ4K|B00RLYG2S2|     147324304|Abiie Beyond Wood...|            Baby|          5|            3|          4|   N|                Y|So far I love thi...|So far I love thi...| 2015-08-31|\n",
            "|         US|    9287389| REV51EW323H8W|B010UX9T5I|     446691106|Lovinglove Baby G...|            Baby|          5|            0|          0|   N|                Y|          Five Stars|           Love them| 2015-08-31|\n",
            "|         US|   32840762|R2GQ3W03WIUZKE|B00VWBY7SC|     271204734|Bugzi Stroller Ho...|            Baby|          5|            0|          0|   N|                Y|Love these hooks ...|Love these hooks ...| 2015-08-31|\n",
            "|         US|    7797182| RTI1YI7K6GE3D|B006ZBPH24|      67911244|Born Free 5 oz. B...|            Baby|          5|            0|          0|   N|                Y|          Five Stars|           very good| 2015-08-31|\n",
            "|         US|   14788115|R3V9C2C0SPSZU6|B00UGV8BEU|     613360092|Baby Bandana Bibs...|            Baby|          5|            0|          0|   N|                Y|            Perfect!|Love these bibs! ...| 2015-08-31|\n",
            "|         US|   37909065|R1LB42XCSSCLV6|B005BIOOYO|     527977399|Flip Stay-Dry Ins...|            Baby|          5|            0|          0|   N|                Y|best inserts for ...|I love these. The...| 2015-08-31|\n",
            "|         US|   15935520|R113NWCW6STTMC|B0071D1AKI|     634188771|Aqueduck The ORIG...|            Baby|          5|            0|          0|   N|                Y|        Very Helpful|This worked exact...| 2015-08-31|\n",
            "|         US|   16308044| RWRN5XK337N41|B00M2F0OYS|     166133791|Motorola Baby Mon...|            Baby|          1|            0|          0|   N|                N|Very Dissapointed...|I am so disappoin...| 2015-08-31|\n",
            "|         US|    8168178| RF4WL3QEP3PVI|B00QCBD5AS|     294351494|Minnie Mouse Delu...|            Baby|          1|            0|          0|   N|                Y|            One Star|Ordered minnie mo...| 2015-08-31|\n",
            "|         US|   23299101|R2DRL5NRODVQ3Z|B00SN6F9NG|       3470998|Rhoost Nail Clipp...|            Baby|          5|            2|          2|   N|                Y|If fits so comfor...|This is an absolu...| 2015-08-31|\n",
            "|         US|   14261025|R3T9B92MDDHKMM|B00J0YTS1E|     488640919|My Natural Owl Mu...|            Baby|          2|            5|          5|   N|                Y|Used to be great....|They changed the ...| 2015-08-31|\n",
            "+-----------+-----------+--------------+----------+--------------+--------------------+----------------+-----------+-------------+-----------+----+-----------------+--------------------+--------------------+-----------+\n",
            "only showing top 20 rows\n",
            "\n"
          ],
          "name": "stdout"
        }
      ]
    },
    {
      "cell_type": "code",
      "metadata": {
        "id": "ehHDrAF1vo_K",
        "outputId": "04531d6a-6efd-45e4-f566-ae086434dc26",
        "colab": {
          "base_uri": "https://localhost:8080/"
        }
      },
      "source": [
        "# 2.3 Recreate the vine_table DataFrame\n",
        "# vine_df = df.select([])\n",
        "vine_table = df.select([\"review_id\",\"star_rating\",\"helpful_votes\", \"total_votes\",\"vine\", \"verified_purchase\"]).dropDuplicates([\"review_id\"])\n",
        "# add drop duplicates to avoid errors when uploading to pgAdmin\n",
        "\n",
        "vine_table.show(10)"
      ],
      "execution_count": 5,
      "outputs": [
        {
          "output_type": "stream",
          "text": [
            "+--------------+-----------+-------------+-----------+----+-----------------+\n",
            "|     review_id|star_rating|helpful_votes|total_votes|vine|verified_purchase|\n",
            "+--------------+-----------+-------------+-----------+----+-----------------+\n",
            "|R100GNJU76M4Q9|          4|            0|          0|   N|                Y|\n",
            "|R100RNZZU8P949|          5|            2|          2|   N|                Y|\n",
            "|R102LHBUMFLRSZ|          3|            5|          6|   N|                N|\n",
            "|R102NVF0W1Y2Q1|          5|            5|          8|   N|                N|\n",
            "|R1030RGR05XVMJ|          5|            0|          0|   N|                N|\n",
            "|R1032V7632ZYV8|          5|            0|          0|   N|                Y|\n",
            "|R1035LB8SN4J8C|          5|            0|          0|   N|                Y|\n",
            "|R10459MPUEC8XH|          5|            0|          0|   N|                Y|\n",
            "|R104RESTVELARK|          5|            5|          5|   N|                N|\n",
            "|R105Z2BW17EOMD|          5|            0|          0|   N|                Y|\n",
            "+--------------+-----------+-------------+-----------+----+-----------------+\n",
            "only showing top 10 rows\n",
            "\n"
          ],
          "name": "stdout"
        }
      ]
    },
    {
      "cell_type": "code",
      "metadata": {
        "id": "RP1r5naov0p5",
        "outputId": "f792bd1f-babd-4108-f999-d9a16bc22f49",
        "colab": {
          "base_uri": "https://localhost:8080/"
        }
      },
      "source": [
        "# Filter the data and create a new DataFrame or table to retrieve all the rows where the total_votes count is equal to or greater than 20 \n",
        "# to pick reviews that are more likely to be helpful and to avoid having division by zero errors later on\n",
        "votes20plus = vine_table.filter((vine_table[\"total_votes\"]>=20))\n",
        "votes20plus.show()"
      ],
      "execution_count": 6,
      "outputs": [
        {
          "output_type": "stream",
          "text": [
            "+--------------+-----------+-------------+-----------+----+-----------------+\n",
            "|     review_id|star_rating|helpful_votes|total_votes|vine|verified_purchase|\n",
            "+--------------+-----------+-------------+-----------+----+-----------------+\n",
            "|R11IME54UJ0TV1|          1|           34|         42|   N|                Y|\n",
            "|R11LANLE6U169Z|          5|           27|         27|   N|                N|\n",
            "|R120ZYE4Z0LHI3|          5|           15|         20|   N|                Y|\n",
            "|R12OMTI3YQVBSS|          5|           82|         87|   N|                N|\n",
            "|R13BE7COD06LXV|          5|           51|         61|   N|                Y|\n",
            "|R13PUDGVD1HF8E|          5|           30|         33|   N|                Y|\n",
            "|R14D1LAC7GWP1N|          1|           34|         38|   N|                Y|\n",
            "|R14I0JIEVLCI36|          2|           19|         24|   N|                N|\n",
            "|R15P9EP044L69J|          1|            5|         33|   N|                Y|\n",
            "|R16AX8GBS7H14M|          5|           26|         26|   N|                Y|\n",
            "|R1782ADZF7YXT4|          5|           79|         84|   N|                Y|\n",
            "|R18N33O4MNA9UO|          3|           79|         83|   N|                N|\n",
            "|R1AG45AME64KAE|          2|           73|         78|   N|                N|\n",
            "|R1DAT4MPWBZSBU|          1|           18|         41|   N|                Y|\n",
            "|R1E475AB76N4TI|          2|           11|         20|   N|                N|\n",
            "|R1G1Y7O58N60BP|          4|           31|         36|   N|                Y|\n",
            "|R1GO642OSHZAC9|          3|           32|         39|   N|                N|\n",
            "|R1HQ6E1CEES1TS|          3|           24|         24|   N|                N|\n",
            "|R1IWZ8IJOD4H34|          5|           82|         85|   N|                Y|\n",
            "|R1JAFB9DBWRZXQ|          4|           34|         34|   N|                N|\n",
            "+--------------+-----------+-------------+-----------+----+-----------------+\n",
            "only showing top 20 rows\n",
            "\n"
          ],
          "name": "stdout"
        }
      ]
    },
    {
      "cell_type": "code",
      "metadata": {
        "id": "EvZ87wqpyQ0W",
        "outputId": "1dba5895-5f0c-48ee-ff64-1f220712d708",
        "colab": {
          "base_uri": "https://localhost:8080/"
        }
      },
      "source": [
        "# retrieve all the rows where the number of helpful_votes divided by total_votes is equal to or greater than 50%# \n",
        "votes20plus_weight = votes20plus.filter(votes20plus[\"helpful_votes\"]/votes20plus[\"total_votes\"] >= 0.5)\n",
        "votes20plus_weight.show()"
      ],
      "execution_count": 7,
      "outputs": [
        {
          "output_type": "stream",
          "text": [
            "+--------------+-----------+-------------+-----------+----+-----------------+\n",
            "|     review_id|star_rating|helpful_votes|total_votes|vine|verified_purchase|\n",
            "+--------------+-----------+-------------+-----------+----+-----------------+\n",
            "|R11IME54UJ0TV1|          1|           34|         42|   N|                Y|\n",
            "|R11LANLE6U169Z|          5|           27|         27|   N|                N|\n",
            "|R120ZYE4Z0LHI3|          5|           15|         20|   N|                Y|\n",
            "|R12OMTI3YQVBSS|          5|           82|         87|   N|                N|\n",
            "|R13BE7COD06LXV|          5|           51|         61|   N|                Y|\n",
            "|R13PUDGVD1HF8E|          5|           30|         33|   N|                Y|\n",
            "|R14D1LAC7GWP1N|          1|           34|         38|   N|                Y|\n",
            "|R14I0JIEVLCI36|          2|           19|         24|   N|                N|\n",
            "|R16AX8GBS7H14M|          5|           26|         26|   N|                Y|\n",
            "|R1782ADZF7YXT4|          5|           79|         84|   N|                Y|\n",
            "|R18N33O4MNA9UO|          3|           79|         83|   N|                N|\n",
            "|R1AG45AME64KAE|          2|           73|         78|   N|                N|\n",
            "|R1E475AB76N4TI|          2|           11|         20|   N|                N|\n",
            "|R1G1Y7O58N60BP|          4|           31|         36|   N|                Y|\n",
            "|R1GO642OSHZAC9|          3|           32|         39|   N|                N|\n",
            "|R1HQ6E1CEES1TS|          3|           24|         24|   N|                N|\n",
            "|R1IWZ8IJOD4H34|          5|           82|         85|   N|                Y|\n",
            "|R1JAFB9DBWRZXQ|          4|           34|         34|   N|                N|\n",
            "|R1KZHOI2YA9C0X|          5|           26|         31|   N|                Y|\n",
            "|R1MW8HWSJFKUIP|          1|           23|         24|   N|                Y|\n",
            "+--------------+-----------+-------------+-----------+----+-----------------+\n",
            "only showing top 20 rows\n",
            "\n"
          ],
          "name": "stdout"
        }
      ]
    },
    {
      "cell_type": "code",
      "metadata": {
        "id": "xPiA19ZsyqBG",
        "outputId": "6e7bcb54-5b53-4efa-b251-24dcc9d6024a",
        "colab": {
          "base_uri": "https://localhost:8080/"
        }
      },
      "source": [
        "from pyspark.sql.functions import col, avg\n",
        "\n",
        "# Filter the DataFrame or table created in Step 2, and create a new DataFrame or table that retrieves all the rows where a review was written as part of the Vine program (paid), vine == 'Y'.\n",
        "paid_votes = votes20plus_weight.filter(votes20plus_weight['vine']== 'Y')\n",
        "paid_votes.show()"
      ],
      "execution_count": 8,
      "outputs": [
        {
          "output_type": "stream",
          "text": [
            "+--------------+-----------+-------------+-----------+----+-----------------+\n",
            "|     review_id|star_rating|helpful_votes|total_votes|vine|verified_purchase|\n",
            "+--------------+-----------+-------------+-----------+----+-----------------+\n",
            "|R26Y8YAR5AEQNV|          4|           21|         25|   Y|                N|\n",
            "|R2PH29E7EQECTF|          4|           23|         25|   Y|                N|\n",
            "| R2XU8C5Q33TM6|          5|           24|         34|   Y|                N|\n",
            "|R3EIBNKTZXD4GJ|          3|           24|         25|   Y|                N|\n",
            "|R1T36KTG6O5GT7|          5|           26|         30|   Y|                N|\n",
            "|R1KVGQ4WN1PBX5|          3|           17|         20|   Y|                N|\n",
            "| RT5GP7MX076JI|          4|          284|        292|   Y|                N|\n",
            "| RT8AV0IB2PGHH|          4|          108|        132|   Y|                N|\n",
            "|R1I943LCR9S4N1|          5|           21|         31|   Y|                N|\n",
            "|R2L6QXN07FYVD2|          4|          384|        390|   Y|                N|\n",
            "| RNMHWQWGLI9D7|          5|          130|        138|   Y|                N|\n",
            "| RYVF19PUVR93M|          5|          105|        127|   Y|                N|\n",
            "|R2U95KTBX27TRX|          4|           35|         37|   Y|                N|\n",
            "|R30DBZMF97PX3I|          5|           45|         52|   Y|                N|\n",
            "| RAG6F5SXSZI8I|          4|           37|         38|   Y|                N|\n",
            "| RS2414NZ4L8EF|          4|           28|         31|   Y|                N|\n",
            "| RK16WI2TXLTWE|          5|           26|         35|   Y|                N|\n",
            "| RSQELT8SJLXA8|          5|           24|         25|   Y|                N|\n",
            "|R1LWQ3B7SHYB7U|          3|           45|         52|   Y|                N|\n",
            "|R21M5LTGH9LYV9|          5|          533|        553|   Y|                N|\n",
            "+--------------+-----------+-------------+-----------+----+-----------------+\n",
            "only showing top 20 rows\n",
            "\n"
          ],
          "name": "stdout"
        }
      ]
    },
    {
      "cell_type": "code",
      "metadata": {
        "id": "c75Uufz6EJeW",
        "outputId": "b839437a-eb57-4d45-9598-002916384382",
        "colab": {
          "base_uri": "https://localhost:8080/"
        }
      },
      "source": [
        "# see summary details of the paid data above\n",
        "paid_votes.describe().show()"
      ],
      "execution_count": 9,
      "outputs": [
        {
          "output_type": "stream",
          "text": [
            "+-------+--------------+-----------------+-----------------+------------------+----+-----------------+\n",
            "|summary|     review_id|      star_rating|    helpful_votes|       total_votes|vine|verified_purchase|\n",
            "+-------+--------------+-----------------+-----------------+------------------+----+-----------------+\n",
            "|  count|           463|              463|              463|               463| 463|              463|\n",
            "|   mean|          null|4.058315334773218|65.91792656587474|  73.1792656587473|null|             null|\n",
            "| stddev|          null|1.056238410588458|94.07596729061886|100.55045599693311|null|             null|\n",
            "|    min|R1038HIHP60BGQ|                1|               11|                20|   Y|                N|\n",
            "|    max| RZC721M0G7OAB|                5|              790|               937|   Y|                Y|\n",
            "+-------+--------------+-----------------+-----------------+------------------+----+-----------------+\n",
            "\n"
          ],
          "name": "stdout"
        }
      ]
    },
    {
      "cell_type": "code",
      "metadata": {
        "id": "EOFSSG5iy9Ot",
        "outputId": "421066ec-9397-43b4-fc4f-f580d252229b",
        "colab": {
          "base_uri": "https://localhost:8080/"
        }
      },
      "source": [
        "unpaid_votes = votes20plus_weight.filter(votes20plus_weight['vine']== 'N')\n",
        "unpaid_votes.show()"
      ],
      "execution_count": 10,
      "outputs": [
        {
          "output_type": "stream",
          "text": [
            "+--------------+-----------+-------------+-----------+----+-----------------+\n",
            "|     review_id|star_rating|helpful_votes|total_votes|vine|verified_purchase|\n",
            "+--------------+-----------+-------------+-----------+----+-----------------+\n",
            "|R11IME54UJ0TV1|          1|           34|         42|   N|                Y|\n",
            "|R11LANLE6U169Z|          5|           27|         27|   N|                N|\n",
            "|R120ZYE4Z0LHI3|          5|           15|         20|   N|                Y|\n",
            "|R12OMTI3YQVBSS|          5|           82|         87|   N|                N|\n",
            "|R13BE7COD06LXV|          5|           51|         61|   N|                Y|\n",
            "|R13PUDGVD1HF8E|          5|           30|         33|   N|                Y|\n",
            "|R14D1LAC7GWP1N|          1|           34|         38|   N|                Y|\n",
            "|R14I0JIEVLCI36|          2|           19|         24|   N|                N|\n",
            "|R16AX8GBS7H14M|          5|           26|         26|   N|                Y|\n",
            "|R1782ADZF7YXT4|          5|           79|         84|   N|                Y|\n",
            "|R18N33O4MNA9UO|          3|           79|         83|   N|                N|\n",
            "|R1AG45AME64KAE|          2|           73|         78|   N|                N|\n",
            "|R1E475AB76N4TI|          2|           11|         20|   N|                N|\n",
            "|R1G1Y7O58N60BP|          4|           31|         36|   N|                Y|\n",
            "|R1GO642OSHZAC9|          3|           32|         39|   N|                N|\n",
            "|R1HQ6E1CEES1TS|          3|           24|         24|   N|                N|\n",
            "|R1IWZ8IJOD4H34|          5|           82|         85|   N|                Y|\n",
            "|R1JAFB9DBWRZXQ|          4|           34|         34|   N|                N|\n",
            "|R1KZHOI2YA9C0X|          5|           26|         31|   N|                Y|\n",
            "|R1MW8HWSJFKUIP|          1|           23|         24|   N|                Y|\n",
            "+--------------+-----------+-------------+-----------+----+-----------------+\n",
            "only showing top 20 rows\n",
            "\n"
          ],
          "name": "stdout"
        }
      ]
    },
    {
      "cell_type": "code",
      "metadata": {
        "id": "mWob4mqhEc12",
        "outputId": "42f376d6-57ba-4341-f211-9f57484dcff7",
        "colab": {
          "base_uri": "https://localhost:8080/"
        }
      },
      "source": [
        "# Details of the unpaid data above\n",
        "unpaid_votes.describe().show()"
      ],
      "execution_count": 11,
      "outputs": [
        {
          "output_type": "stream",
          "text": [
            "+-------+--------------+------------------+------------------+------------------+-----+-----------------+\n",
            "|summary|     review_id|       star_rating|     helpful_votes|       total_votes| vine|verified_purchase|\n",
            "+-------+--------------+------------------+------------------+------------------+-----+-----------------+\n",
            "|  count|         25094|             25094|             25094|             25094|25094|            25094|\n",
            "|   mean|          null|  3.68203554634574| 57.67215270582609| 63.70235912967243| null|             null|\n",
            "| stddev|          null|1.5492545817482586|106.55902159228367|111.31034786057249| null|             null|\n",
            "|    min|R1005Z9N2TD883|                 1|                10|                20|    N|                N|\n",
            "|    max| RZZX866D23PU5|                 5|              5245|              5471|    N|                Y|\n",
            "+-------+--------------+------------------+------------------+------------------+-----+-----------------+\n",
            "\n"
          ],
          "name": "stdout"
        }
      ]
    },
    {
      "cell_type": "code",
      "metadata": {
        "id": "sXB2pIK9zrJD",
        "outputId": "a0648f28-5187-4bcc-eba2-601979113239",
        "colab": {
          "base_uri": "https://localhost:8080/"
        }
      },
      "source": [
        "# Number of all paid reviews Vine reviews\n",
        "paid_count = paid_votes.count()\n",
        "# Number of 5-star paid Vine reviews\n",
        "paid_five_star = paid_votes[paid_votes['star_rating']== 5].count()\n",
        "#  Percentage of five-star paid Vine reviews among paid Vine reviews\n",
        "percentage_five_star_paid = (paid_five_star) / (paid_count)\n",
        "\n",
        "# Results\n",
        "print('The total number of all paid Vine reviews is:', paid_count)\n",
        "print('The total number of paid 5-star Vine reviews is:', paid_five_star)\n",
        "print('Percentage of paid 5-star Vine reviews is:', percentage_five_star_paid)"
      ],
      "execution_count": 12,
      "outputs": [
        {
          "output_type": "stream",
          "text": [
            "The total number of all paid Vine reviews is: 463\n",
            "The total number of paid 5-star Vine reviews is: 202\n",
            "Percentage of paid 5-star Vine reviews is: 0.43628509719222464\n"
          ],
          "name": "stdout"
        }
      ]
    },
    {
      "cell_type": "code",
      "metadata": {
        "id": "ypdBXzbYG2uS",
        "outputId": "e9d85dc5-0964-47fd-9f3b-186caf9914e9",
        "colab": {
          "base_uri": "https://localhost:8080/"
        }
      },
      "source": [
        "# Number of all non-Vive reviews\n",
        "unpaid_count = unpaid_votes.count()\n",
        "# Number of all non-Vine 5-star reviews\n",
        "unpaid_five_star = unpaid_votes[unpaid_votes['star_rating']== 5].count()\n",
        "#  Percentage of five-star reviews among non-Vine reviews\n",
        "percentage_five_star_unpaid = (unpaid_five_star) / (unpaid_count)\n",
        "\n",
        "# Results\n",
        "print('The total number of all unpaid (non-Vine) reviews are:', unpaid_count)\n",
        "print('The total number of unpaid 5-star (non-Vine) reviews are:', unpaid_five_star)\n",
        "print('Percentage of unpaid 5-star (non-Vine) reviews is:', percentage_five_star_unpaid)"
      ],
      "execution_count": 13,
      "outputs": [
        {
          "output_type": "stream",
          "text": [
            "The total number of all unpaid (non-Vine) reviews are: 25094\n",
            "The total number of unpaid 5-star (non-Vine) reviews are: 12033\n",
            "Percentage of unpaid 5-star (non-Vine) reviews is: 0.4795170160197657\n"
          ],
          "name": "stdout"
        }
      ]
    },
    {
      "cell_type": "code",
      "metadata": {
        "id": "G2IBd0gh7L3N",
        "outputId": "eadd2243-84af-40b5-ba61-1640044f71bc",
        "colab": {
          "base_uri": "https://localhost:8080/"
        }
      },
      "source": [
        "# Number of 4-star paid Vine reviews\n",
        "paid_four_star = paid_votes[paid_votes['star_rating']== 4].count()\n",
        "#  Percentage of 4-star paid reviews among paid Vine reviews\n",
        "percentage_four_star_paid = (paid_four_star) / (paid_count)\n",
        "\n",
        "# Results\n",
        "print('The total number of paid 4-star Vine reviews is:', paid_four_star)\n",
        "print('Percentage of paid 4-star Vine reviews is:', percentage_four_star_paid)"
      ],
      "execution_count": 14,
      "outputs": [
        {
          "output_type": "stream",
          "text": [
            "The total number of paid 4-star Vine reviews is: 142\n",
            "Percentage of paid 4-star Vine reviews is: 0.30669546436285094\n"
          ],
          "name": "stdout"
        }
      ]
    },
    {
      "cell_type": "code",
      "metadata": {
        "id": "kQ24qEwS8gE8",
        "outputId": "dcdc5587-2daa-4cbd-8464-4ce877a93151",
        "colab": {
          "base_uri": "https://localhost:8080/"
        }
      },
      "source": [
        "# Number of all non-Vine 4-star reviews\n",
        "unpaid_four_star = unpaid_votes[unpaid_votes['star_rating']== 4].count()\n",
        "#  Percentage of five-star reviews among non-Vine reviews\n",
        "percentage_four_star_unpaid = (unpaid_four_star) / (unpaid_count)\n",
        "\n",
        "# Results\n",
        "print('The total number of unpaid 4-star (non-Vine) reviews are:', unpaid_four_star)\n",
        "print('Percentage of unpaid 4-star (non-Vine) reviews is:', percentage_four_star_unpaid)"
      ],
      "execution_count": 15,
      "outputs": [
        {
          "output_type": "stream",
          "text": [
            "The total number of unpaid 4-star (non-Vine) reviews are: 3947\n",
            "Percentage of unpaid 4-star (non-Vine) reviews is: 0.157288594883239\n"
          ],
          "name": "stdout"
        }
      ]
    },
    {
      "cell_type": "code",
      "metadata": {
        "id": "QIS1YHLI_Fs7",
        "outputId": "229bdc13-0870-4d1e-f6c2-5472f7b840bf",
        "colab": {
          "base_uri": "https://localhost:8080/"
        }
      },
      "source": [
        "# Number of 3-star paid Vine reviews\n",
        "paid_three_star = paid_votes[paid_votes['star_rating']== 3].count()\n",
        "#  Percentage of 3-star paid reviews among paid Vine reviews\n",
        "percentage_three_star_paid = (paid_three_star) / (paid_count)\n",
        "\n",
        "# Results\n",
        "print('The total number of paid 3-star Vine reviews is:', paid_three_star)\n",
        "print('Percentage of paid 3-star Vine reviews is:', percentage_three_star_paid)"
      ],
      "execution_count": 16,
      "outputs": [
        {
          "output_type": "stream",
          "text": [
            "The total number of paid 3-star Vine reviews is: 77\n",
            "Percentage of paid 3-star Vine reviews is: 0.16630669546436286\n"
          ],
          "name": "stdout"
        }
      ]
    },
    {
      "cell_type": "code",
      "metadata": {
        "id": "-j8wL13L_ZaH",
        "outputId": "7cf2f8b0-89ca-41d3-c03a-d5c4d8467b54",
        "colab": {
          "base_uri": "https://localhost:8080/"
        }
      },
      "source": [
        "# Number of all non-Vine 3-star reviews\n",
        "unpaid_three_star = unpaid_votes[unpaid_votes['star_rating']== 3].count()\n",
        "#  Percentage of 3-star reviews among non-Vine reviews\n",
        "percentage_three_star_unpaid = (unpaid_three_star) / (unpaid_count)\n",
        "\n",
        "# Results\n",
        "print('The total number of unpaid 3-star (non-Vine) reviews are:', unpaid_three_star)\n",
        "print('Percentage of unpaid 3-star (non-Vine) reviews is:', percentage_three_star_unpaid)"
      ],
      "execution_count": 17,
      "outputs": [
        {
          "output_type": "stream",
          "text": [
            "The total number of unpaid 3-star (non-Vine) reviews are: 2678\n",
            "Percentage of unpaid 3-star (non-Vine) reviews is: 0.10671873754682394\n"
          ],
          "name": "stdout"
        }
      ]
    },
    {
      "cell_type": "code",
      "metadata": {
        "id": "ZoozgX-j_oyq",
        "outputId": "aec34b07-a786-4fc3-a102-88c9d3c4e0f2",
        "colab": {
          "base_uri": "https://localhost:8080/"
        }
      },
      "source": [
        "# Number of 2-star paid Vine reviews\n",
        "paid_two_star = paid_votes[paid_votes['star_rating']== 2].count()\n",
        "#  Percentage of 2-star paid reviews among paid Vine reviews\n",
        "percentage_two_star_paid = (paid_two_star) / (paid_count)\n",
        "\n",
        "# Results\n",
        "print('The total number of paid 2-star Vine reviews is:', paid_two_star)\n",
        "print('Percentage of paid 2-star Vine reviews is:', percentage_two_star_paid)"
      ],
      "execution_count": 18,
      "outputs": [
        {
          "output_type": "stream",
          "text": [
            "The total number of paid 2-star Vine reviews is: 28\n",
            "Percentage of paid 2-star Vine reviews is: 0.06047516198704104\n"
          ],
          "name": "stdout"
        }
      ]
    },
    {
      "cell_type": "code",
      "metadata": {
        "id": "n6r0vaY2_-rn",
        "outputId": "a7fe4ebc-7fea-4809-bb6a-e881b9eb3738",
        "colab": {
          "base_uri": "https://localhost:8080/"
        }
      },
      "source": [
        "# Number of all non-Vine 2-star reviews\n",
        "unpaid_one_star = unpaid_votes[unpaid_votes['star_rating']== 1].count()\n",
        "#  Percentage of 2-star reviews among non-Vine reviews\n",
        "percentage_one_star_unpaid = (unpaid_one_star) / (unpaid_count)\n",
        "\n",
        "# Results\n",
        "print('The total number of unpaid 1-star (non-Vine) reviews are:', unpaid_one_star)\n",
        "print('Percentage of unpaid 1-star (non-Vine) reviews is:', percentage_one_star_unpaid)"
      ],
      "execution_count": 19,
      "outputs": [
        {
          "output_type": "stream",
          "text": [
            "The total number of unpaid 1-star (non-Vine) reviews are: 4462\n",
            "Percentage of unpaid 1-star (non-Vine) reviews is: 0.177811429026859\n"
          ],
          "name": "stdout"
        }
      ]
    },
    {
      "cell_type": "code",
      "metadata": {
        "id": "ChRH_FLWAQwU",
        "outputId": "8b87bb76-ebad-4589-a014-50265f5871e7",
        "colab": {
          "base_uri": "https://localhost:8080/"
        }
      },
      "source": [
        "# Number of 1-star paid Vine reviews\n",
        "paid_one_star = paid_votes[paid_votes['star_rating']== 1].count()\n",
        "#  Percentage of 1-star paid reviews among paid Vine reviews\n",
        "percentage_one_star_paid = (paid_one_star) / (paid_count)\n",
        "\n",
        "# Results\n",
        "print('The total number of paid 1-star Vine reviews is:', paid_one_star)\n",
        "print('Percentage of paid 1-star Vine reviews is:', percentage_one_star_paid)"
      ],
      "execution_count": 20,
      "outputs": [
        {
          "output_type": "stream",
          "text": [
            "The total number of paid 1-star Vine reviews is: 14\n",
            "Percentage of paid 1-star Vine reviews is: 0.03023758099352052\n"
          ],
          "name": "stdout"
        }
      ]
    },
    {
      "cell_type": "code",
      "metadata": {
        "id": "7aXp0T7Q_-1_"
      },
      "source": [
        ""
      ],
      "execution_count": 20,
      "outputs": []
    }
  ]
}